{
 "cells": [
  {
   "cell_type": "markdown",
   "id": "38b48058",
   "metadata": {},
   "source": [
    "# Installing python pandas library"
   ]
  },
  {
   "cell_type": "code",
   "execution_count": 1,
   "id": "cb2b08ee",
   "metadata": {},
   "outputs": [
    {
     "name": "stdout",
     "output_type": "stream",
     "text": [
      "Requirement already satisfied: pandas in c:\\users\\rites\\anaconda3\\lib\\site-packages (1.3.2)\n",
      "Requirement already satisfied: numpy>=1.17.3 in c:\\users\\rites\\anaconda3\\lib\\site-packages (from pandas) (1.19.5)\n",
      "Requirement already satisfied: python-dateutil>=2.7.3 in c:\\users\\rites\\anaconda3\\lib\\site-packages (from pandas) (2.8.1)\n",
      "Requirement already satisfied: pytz>=2017.3 in c:\\users\\rites\\anaconda3\\lib\\site-packages (from pandas) (2021.1)\n",
      "Requirement already satisfied: six>=1.5 in c:\\users\\rites\\anaconda3\\lib\\site-packages (from python-dateutil>=2.7.3->pandas) (1.15.0)\n"
     ]
    }
   ],
   "source": [
    "!pip install pandas"
   ]
  },
  {
   "cell_type": "markdown",
   "id": "1ee9ebf1",
   "metadata": {},
   "source": [
    "# importing library"
   ]
  },
  {
   "cell_type": "code",
   "execution_count": 2,
   "id": "9bc5102e",
   "metadata": {},
   "outputs": [],
   "source": [
    "import numpy as np\n",
    "import pandas as pd\n",
    "import matplotlib.pyplot as plt\n",
    "import matplotlib.dates as mdates\n",
    "import seaborn as sns\n",
    "%matplotlib inline"
   ]
  },
  {
   "cell_type": "markdown",
   "id": "54cd9385",
   "metadata": {},
   "source": [
    "# Reading the data\n"
   ]
  },
  {
   "cell_type": "code",
   "execution_count": 4,
   "id": "e7acd715",
   "metadata": {},
   "outputs": [],
   "source": [
    "df = pd.read_csv('C:\\project2\\Comcast_telecom_complaints_data.csv')"
   ]
  },
  {
   "cell_type": "markdown",
   "id": "c0eb60ab",
   "metadata": {},
   "source": [
    "# Null count"
   ]
  },
  {
   "cell_type": "code",
   "execution_count": 5,
   "id": "a873d2bf",
   "metadata": {
    "scrolled": false
   },
   "outputs": [
    {
     "data": {
      "text/html": [
       "<div>\n",
       "<style scoped>\n",
       "    .dataframe tbody tr th:only-of-type {\n",
       "        vertical-align: middle;\n",
       "    }\n",
       "\n",
       "    .dataframe tbody tr th {\n",
       "        vertical-align: top;\n",
       "    }\n",
       "\n",
       "    .dataframe thead th {\n",
       "        text-align: right;\n",
       "    }\n",
       "</style>\n",
       "<table border=\"1\" class=\"dataframe\">\n",
       "  <thead>\n",
       "    <tr style=\"text-align: right;\">\n",
       "      <th></th>\n",
       "      <th>Ticket #</th>\n",
       "      <th>Customer Complaint</th>\n",
       "      <th>Date</th>\n",
       "      <th>Date_month_year</th>\n",
       "      <th>Time</th>\n",
       "      <th>Received Via</th>\n",
       "      <th>City</th>\n",
       "      <th>State</th>\n",
       "      <th>Zip code</th>\n",
       "      <th>Status</th>\n",
       "      <th>Filing on Behalf of Someone</th>\n",
       "    </tr>\n",
       "  </thead>\n",
       "  <tbody>\n",
       "    <tr>\n",
       "      <th>count</th>\n",
       "      <td>2224</td>\n",
       "      <td>2224</td>\n",
       "      <td>2224</td>\n",
       "      <td>2224</td>\n",
       "      <td>2224</td>\n",
       "      <td>2224</td>\n",
       "      <td>2224</td>\n",
       "      <td>2224</td>\n",
       "      <td>2224.000000</td>\n",
       "      <td>2224</td>\n",
       "      <td>2224</td>\n",
       "    </tr>\n",
       "    <tr>\n",
       "      <th>unique</th>\n",
       "      <td>2224</td>\n",
       "      <td>1841</td>\n",
       "      <td>113</td>\n",
       "      <td>91</td>\n",
       "      <td>2190</td>\n",
       "      <td>2</td>\n",
       "      <td>928</td>\n",
       "      <td>43</td>\n",
       "      <td>NaN</td>\n",
       "      <td>4</td>\n",
       "      <td>2</td>\n",
       "    </tr>\n",
       "    <tr>\n",
       "      <th>top</th>\n",
       "      <td>250635</td>\n",
       "      <td>Comcast</td>\n",
       "      <td>24-06-2015</td>\n",
       "      <td>24-Jun-15</td>\n",
       "      <td>12:41:14 PM</td>\n",
       "      <td>Customer Care Call</td>\n",
       "      <td>Atlanta</td>\n",
       "      <td>Georgia</td>\n",
       "      <td>NaN</td>\n",
       "      <td>Solved</td>\n",
       "      <td>No</td>\n",
       "    </tr>\n",
       "    <tr>\n",
       "      <th>freq</th>\n",
       "      <td>1</td>\n",
       "      <td>83</td>\n",
       "      <td>216</td>\n",
       "      <td>218</td>\n",
       "      <td>2</td>\n",
       "      <td>1119</td>\n",
       "      <td>63</td>\n",
       "      <td>288</td>\n",
       "      <td>NaN</td>\n",
       "      <td>973</td>\n",
       "      <td>2021</td>\n",
       "    </tr>\n",
       "    <tr>\n",
       "      <th>mean</th>\n",
       "      <td>NaN</td>\n",
       "      <td>NaN</td>\n",
       "      <td>NaN</td>\n",
       "      <td>NaN</td>\n",
       "      <td>NaN</td>\n",
       "      <td>NaN</td>\n",
       "      <td>NaN</td>\n",
       "      <td>NaN</td>\n",
       "      <td>47994.393435</td>\n",
       "      <td>NaN</td>\n",
       "      <td>NaN</td>\n",
       "    </tr>\n",
       "    <tr>\n",
       "      <th>std</th>\n",
       "      <td>NaN</td>\n",
       "      <td>NaN</td>\n",
       "      <td>NaN</td>\n",
       "      <td>NaN</td>\n",
       "      <td>NaN</td>\n",
       "      <td>NaN</td>\n",
       "      <td>NaN</td>\n",
       "      <td>NaN</td>\n",
       "      <td>28885.279427</td>\n",
       "      <td>NaN</td>\n",
       "      <td>NaN</td>\n",
       "    </tr>\n",
       "    <tr>\n",
       "      <th>min</th>\n",
       "      <td>NaN</td>\n",
       "      <td>NaN</td>\n",
       "      <td>NaN</td>\n",
       "      <td>NaN</td>\n",
       "      <td>NaN</td>\n",
       "      <td>NaN</td>\n",
       "      <td>NaN</td>\n",
       "      <td>NaN</td>\n",
       "      <td>1075.000000</td>\n",
       "      <td>NaN</td>\n",
       "      <td>NaN</td>\n",
       "    </tr>\n",
       "    <tr>\n",
       "      <th>25%</th>\n",
       "      <td>NaN</td>\n",
       "      <td>NaN</td>\n",
       "      <td>NaN</td>\n",
       "      <td>NaN</td>\n",
       "      <td>NaN</td>\n",
       "      <td>NaN</td>\n",
       "      <td>NaN</td>\n",
       "      <td>NaN</td>\n",
       "      <td>30056.500000</td>\n",
       "      <td>NaN</td>\n",
       "      <td>NaN</td>\n",
       "    </tr>\n",
       "    <tr>\n",
       "      <th>50%</th>\n",
       "      <td>NaN</td>\n",
       "      <td>NaN</td>\n",
       "      <td>NaN</td>\n",
       "      <td>NaN</td>\n",
       "      <td>NaN</td>\n",
       "      <td>NaN</td>\n",
       "      <td>NaN</td>\n",
       "      <td>NaN</td>\n",
       "      <td>37211.000000</td>\n",
       "      <td>NaN</td>\n",
       "      <td>NaN</td>\n",
       "    </tr>\n",
       "    <tr>\n",
       "      <th>75%</th>\n",
       "      <td>NaN</td>\n",
       "      <td>NaN</td>\n",
       "      <td>NaN</td>\n",
       "      <td>NaN</td>\n",
       "      <td>NaN</td>\n",
       "      <td>NaN</td>\n",
       "      <td>NaN</td>\n",
       "      <td>NaN</td>\n",
       "      <td>77058.750000</td>\n",
       "      <td>NaN</td>\n",
       "      <td>NaN</td>\n",
       "    </tr>\n",
       "    <tr>\n",
       "      <th>max</th>\n",
       "      <td>NaN</td>\n",
       "      <td>NaN</td>\n",
       "      <td>NaN</td>\n",
       "      <td>NaN</td>\n",
       "      <td>NaN</td>\n",
       "      <td>NaN</td>\n",
       "      <td>NaN</td>\n",
       "      <td>NaN</td>\n",
       "      <td>99223.000000</td>\n",
       "      <td>NaN</td>\n",
       "      <td>NaN</td>\n",
       "    </tr>\n",
       "  </tbody>\n",
       "</table>\n",
       "</div>"
      ],
      "text/plain": [
       "       Ticket # Customer Complaint        Date Date_month_year         Time  \\\n",
       "count      2224               2224        2224            2224         2224   \n",
       "unique     2224               1841         113              91         2190   \n",
       "top      250635            Comcast  24-06-2015       24-Jun-15  12:41:14 PM   \n",
       "freq          1                 83         216             218            2   \n",
       "mean        NaN                NaN         NaN             NaN          NaN   \n",
       "std         NaN                NaN         NaN             NaN          NaN   \n",
       "min         NaN                NaN         NaN             NaN          NaN   \n",
       "25%         NaN                NaN         NaN             NaN          NaN   \n",
       "50%         NaN                NaN         NaN             NaN          NaN   \n",
       "75%         NaN                NaN         NaN             NaN          NaN   \n",
       "max         NaN                NaN         NaN             NaN          NaN   \n",
       "\n",
       "              Received Via     City    State      Zip code  Status  \\\n",
       "count                 2224     2224     2224   2224.000000    2224   \n",
       "unique                   2      928       43           NaN       4   \n",
       "top     Customer Care Call  Atlanta  Georgia           NaN  Solved   \n",
       "freq                  1119       63      288           NaN     973   \n",
       "mean                   NaN      NaN      NaN  47994.393435     NaN   \n",
       "std                    NaN      NaN      NaN  28885.279427     NaN   \n",
       "min                    NaN      NaN      NaN   1075.000000     NaN   \n",
       "25%                    NaN      NaN      NaN  30056.500000     NaN   \n",
       "50%                    NaN      NaN      NaN  37211.000000     NaN   \n",
       "75%                    NaN      NaN      NaN  77058.750000     NaN   \n",
       "max                    NaN      NaN      NaN  99223.000000     NaN   \n",
       "\n",
       "       Filing on Behalf of Someone  \n",
       "count                         2224  \n",
       "unique                           2  \n",
       "top                             No  \n",
       "freq                          2021  \n",
       "mean                           NaN  \n",
       "std                            NaN  \n",
       "min                            NaN  \n",
       "25%                            NaN  \n",
       "50%                            NaN  \n",
       "75%                            NaN  \n",
       "max                            NaN  "
      ]
     },
     "execution_count": 5,
     "metadata": {},
     "output_type": "execute_result"
    }
   ],
   "source": [
    "df[df.isnull()].count()\n",
    "df.describe(include='all')"
   ]
  },
  {
   "cell_type": "markdown",
   "id": "5fa4bc50",
   "metadata": {},
   "source": [
    "## Provide the trend chart for the number of complaints at monthly  levels."
   ]
  },
  {
   "cell_type": "code",
   "execution_count": 6,
   "id": "c81d96ca",
   "metadata": {},
   "outputs": [
    {
     "data": {
      "text/plain": [
       "<AxesSubplot:xlabel='date_index'>"
      ]
     },
     "execution_count": 6,
     "metadata": {},
     "output_type": "execute_result"
    },
    {
     "data": {
      "image/png": "[encoded data removed]",
      "text/plain": [
       "<Figure size 432x288 with 1 Axes>"
      ]
     },
     "metadata": {
      "needs_background": "light"
     },
     "output_type": "display_data"
    }
   ],
   "source": [
    "df[\"date_index\"] = df[\"Date_month_year\"] + \" \" + df[\"Time\"]\n",
    "df[\"date_index\"] = pd.to_datetime(df[\"date_index\"])\n",
    "df[\"Date_month_year\"] = pd.to_datetime(df[\"Date_month_year\"])\n",
    "df = df.set_index(df[\"date_index\"])\n",
    "df[\"Date_month_year\"].value_counts()[:3]\n",
    "df.groupby(pd.Grouper(freq=\"M\")).size().plot()"
   ]
  },
  {
   "cell_type": "markdown",
   "id": "e84f8973",
   "metadata": {},
   "source": [
    "## Provide the trend chart for the number of complaints at Daily levels."
   ]
  },
  {
   "cell_type": "code",
   "execution_count": 7,
   "id": "36bf63c5",
   "metadata": {},
   "outputs": [
    {
     "data": {
      "text/plain": [
       "(0.0, 34.0)"
      ]
     },
     "execution_count": 7,
     "metadata": {},
     "output_type": "execute_result"
    },
    {
     "data": {
      "image/png": "[encoded data removed]",
      "text/plain": [
       "<Figure size 432x432 with 1 Axes>"
      ]
     },
     "metadata": {
      "needs_background": "light"
     },
     "output_type": "display_data"
    }
   ],
   "source": [
    "df['Created_Day'] = df['Date_month_year'].apply(lambda x: x.day)\n",
    "plt.figure(figsize=(6,6))\n",
    "totalday = df.groupby('Created_Day').count().reset_index()\n",
    "lp = sns.lineplot(x='Created_Day', y= 'Customer Complaint', data = totalday, sort=False, color = 'red',markers = \"o\", )\n",
    "ax = lp.axes\n",
    "ax.set_xlim(0,34)"
   ]
  },
  {
   "cell_type": "markdown",
   "id": "cac97b06",
   "metadata": {},
   "source": [
    "# Showing Status in bar chart"
   ]
  },
  {
   "cell_type": "code",
   "execution_count": 8,
   "id": "29dc9a32",
   "metadata": {
    "scrolled": true
   },
   "outputs": [
    {
     "data": {
      "text/plain": [
       "<AxesSubplot:>"
      ]
     },
     "execution_count": 8,
     "metadata": {},
     "output_type": "execute_result"
    },
    {
     "data": {
      "image/png": "[encoded data removed]",
      "text/plain": [
       "<Figure size 432x288 with 1 Axes>"
      ]
     },
     "metadata": {
      "needs_background": "light"
     },
     "output_type": "display_data"
    }
   ],
   "source": [
    "df.Status.value_counts().plot(kind='bar')"
   ]
  },
  {
   "cell_type": "markdown",
   "id": "0dc92ad5",
   "metadata": {},
   "source": [
    "#  Create a new categorical variable with value as Open and Closed"
   ]
  },
  {
   "cell_type": "code",
   "execution_count": 9,
   "id": "a2942e5a",
   "metadata": {},
   "outputs": [],
   "source": [
    "df['Highest_State'] = [\"Open\" if Status==\"Open\" or Status==\"Pending\" else \"Closed\" for Status in df[\"Status\"]]\n",
    "df['Highest_State'].unique()\n",
    "df['Highest State'] = df['State'].str.title() \n",
    "st_cmp = df.groupby(['Highest State','Highest_State']).size().unstack().fillna(0)"
   ]
  },
  {
   "cell_type": "markdown",
   "id": "29890a68",
   "metadata": {},
   "source": [
    "#  Provide state wise status of complaints in a stacked bar chart and Highest Complaint"
   ]
  },
  {
   "cell_type": "code",
   "execution_count": 10,
   "id": "a35e0510",
   "metadata": {},
   "outputs": [
    {
     "data": {
      "text/html": [
       "<div>\n",
       "<style scoped>\n",
       "    .dataframe tbody tr th:only-of-type {\n",
       "        vertical-align: middle;\n",
       "    }\n",
       "\n",
       "    .dataframe tbody tr th {\n",
       "        vertical-align: top;\n",
       "    }\n",
       "\n",
       "    .dataframe thead th {\n",
       "        text-align: right;\n",
       "    }\n",
       "</style>\n",
       "<table border=\"1\" class=\"dataframe\">\n",
       "  <thead>\n",
       "    <tr style=\"text-align: right;\">\n",
       "      <th></th>\n",
       "      <th>Complaint count</th>\n",
       "    </tr>\n",
       "    <tr>\n",
       "      <th>Highest State</th>\n",
       "      <th></th>\n",
       "    </tr>\n",
       "  </thead>\n",
       "  <tbody>\n",
       "    <tr>\n",
       "      <th>Georgia</th>\n",
       "      <td>288</td>\n",
       "    </tr>\n",
       "  </tbody>\n",
       "</table>\n",
       "</div>"
      ],
      "text/plain": [
       "               Complaint count\n",
       "Highest State                 \n",
       "Georgia                    288"
      ]
     },
     "execution_count": 10,
     "metadata": {},
     "output_type": "execute_result"
    },
    {
     "data": {
      "image/png": "[encoded data removed]",
      "text/plain": [
       "<Figure size 720x576 with 1 Axes>"
      ]
     },
     "metadata": {
      "needs_background": "light"
     },
     "output_type": "display_data"
    }
   ],
   "source": [
    "st_cmp.sort_values('Closed',axis = 0,ascending=True).plot(kind=\"barh\", figsize=(10,8), stacked=True)\n",
    "df.groupby([\"Highest State\"]).size().sort_values(ascending=False).to_frame().rename({0: \"Complaint count\"}, axis=1)[:1]\n"
   ]
  },
  {
   "cell_type": "markdown",
   "id": "cd258b97",
   "metadata": {},
   "source": [
    "# state has the highest percentage of unresolved complaints"
   ]
  },
  {
   "cell_type": "code",
   "execution_count": 11,
   "id": "b11a08cf",
   "metadata": {},
   "outputs": [
    {
     "data": {
      "text/html": [
       "<div>\n",
       "<style scoped>\n",
       "    .dataframe tbody tr th:only-of-type {\n",
       "        vertical-align: middle;\n",
       "    }\n",
       "\n",
       "    .dataframe tbody tr th {\n",
       "        vertical-align: top;\n",
       "    }\n",
       "\n",
       "    .dataframe thead th {\n",
       "        text-align: right;\n",
       "    }\n",
       "</style>\n",
       "<table border=\"1\" class=\"dataframe\">\n",
       "  <thead>\n",
       "    <tr style=\"text-align: right;\">\n",
       "      <th>Highest_State</th>\n",
       "      <th>Closed</th>\n",
       "      <th>Open</th>\n",
       "      <th>Resolved_cmp_prct</th>\n",
       "      <th>Unresolved_cmp_prct</th>\n",
       "    </tr>\n",
       "    <tr>\n",
       "      <th>Highest State</th>\n",
       "      <th></th>\n",
       "      <th></th>\n",
       "      <th></th>\n",
       "      <th></th>\n",
       "    </tr>\n",
       "  </thead>\n",
       "  <tbody>\n",
       "    <tr>\n",
       "      <th>Georgia</th>\n",
       "      <td>208.0</td>\n",
       "      <td>80.0</td>\n",
       "      <td>12.18512</td>\n",
       "      <td>15.473888</td>\n",
       "    </tr>\n",
       "  </tbody>\n",
       "</table>\n",
       "</div>"
      ],
      "text/plain": [
       "Highest_State  Closed  Open  Resolved_cmp_prct  Unresolved_cmp_prct\n",
       "Highest State                                                      \n",
       "Georgia         208.0  80.0           12.18512            15.473888"
      ]
     },
     "execution_count": 11,
     "metadata": {},
     "output_type": "execute_result"
    }
   ],
   "source": [
    "CT = df.groupby([\"Highest State\",\"Highest_State\"]).size().unstack().fillna(0)\n",
    "CT.sort_values('Closed',axis = 0,ascending=False)[:1]\n",
    "CT['Resolved_cmp_prct'] = CT['Closed']/CT['Closed'].sum()*100\n",
    "CT['Unresolved_cmp_prct'] = CT['Open']/CT['Open'].sum()*100\n",
    "CT.sort_values('Unresolved_cmp_prct',axis = 0,ascending=False)[:1]"
   ]
  },
  {
   "cell_type": "markdown",
   "id": "04b21374",
   "metadata": {},
   "source": [
    "# percentage of complaints resolved till date"
   ]
  },
  {
   "cell_type": "code",
   "execution_count": 12,
   "id": "25d5e017",
   "metadata": {},
   "outputs": [
    {
     "data": {
      "text/plain": [
       "Received Via\n",
       "Customer Care Call    52.724796\n",
       "Internet              47.275204\n",
       "Name: resolved, dtype: float64"
      ]
     },
     "execution_count": 12,
     "metadata": {},
     "output_type": "execute_result"
    }
   ],
   "source": [
    "cr = df.groupby(['Received Via','Status']).size().unstack().fillna(0)\n",
    "cr['resolved'] = cr['Closed']/cr['Closed'].sum()*100\n",
    "cr['resolved']"
   ]
  },
  {
   "cell_type": "markdown",
   "id": "8230cb21",
   "metadata": {},
   "source": [
    "# Provide a table with the frequency of complaint types."
   ]
  },
  {
   "cell_type": "code",
   "execution_count": 13,
   "id": "7e801308",
   "metadata": {},
   "outputs": [
    {
     "data": {
      "image/png": "[encoded data removed]",
      "text/plain": [
       "<Figure size 720x360 with 1 Axes>"
      ]
     },
     "metadata": {
      "needs_background": "light"
     },
     "output_type": "display_data"
    }
   ],
   "source": [
    "Complaint_Type = df['Customer Complaint'].value_counts().to_frame().reset_index().rename(columns={\n",
    "    'index':'Complaint Type','Customer Complaint':'Frequency'})\n",
    "Complaint_Type\n",
    "plt.figure(figsize=(10,5))\n",
    "comp = sns.barplot(x=Complaint_Type['Complaint Type'].head(10),y=Complaint_Type.Frequency.head(10))\n",
    "comp.set_title('Top 10 Complaint type',weight='bold')\n",
    "comp.set_xticklabels(comp.get_xticklabels(), rotation=30, ha=\"right\",size=10,weight='bold')\n",
    "plt.show()"
   ]
  },
  {
   "cell_type": "markdown",
   "id": "1e43fe7a",
   "metadata": {},
   "source": [
    "# complaint types are maximum"
   ]
  },
  {
   "cell_type": "code",
   "execution_count": 14,
   "id": "75971843",
   "metadata": {},
   "outputs": [
    {
     "data": {
      "text/html": [
       "<div>\n",
       "<style scoped>\n",
       "    .dataframe tbody tr th:only-of-type {\n",
       "        vertical-align: middle;\n",
       "    }\n",
       "\n",
       "    .dataframe tbody tr th {\n",
       "        vertical-align: top;\n",
       "    }\n",
       "\n",
       "    .dataframe thead th {\n",
       "        text-align: right;\n",
       "    }\n",
       "</style>\n",
       "<table border=\"1\" class=\"dataframe\">\n",
       "  <thead>\n",
       "    <tr style=\"text-align: right;\">\n",
       "      <th></th>\n",
       "      <th>Complaint Type</th>\n",
       "      <th>Frequency</th>\n",
       "    </tr>\n",
       "  </thead>\n",
       "  <tbody>\n",
       "    <tr>\n",
       "      <th>0</th>\n",
       "      <td>Comcast</td>\n",
       "      <td>83</td>\n",
       "    </tr>\n",
       "    <tr>\n",
       "      <th>1</th>\n",
       "      <td>Comcast Internet</td>\n",
       "      <td>18</td>\n",
       "    </tr>\n",
       "    <tr>\n",
       "      <th>2</th>\n",
       "      <td>Comcast Data Cap</td>\n",
       "      <td>17</td>\n",
       "    </tr>\n",
       "    <tr>\n",
       "      <th>3</th>\n",
       "      <td>comcast</td>\n",
       "      <td>13</td>\n",
       "    </tr>\n",
       "  </tbody>\n",
       "</table>\n",
       "</div>"
      ],
      "text/plain": [
       "     Complaint Type  Frequency\n",
       "0           Comcast         83\n",
       "1  Comcast Internet         18\n",
       "2  Comcast Data Cap         17\n",
       "3           comcast         13"
      ]
     },
     "execution_count": 14,
     "metadata": {},
     "output_type": "execute_result"
    }
   ],
   "source": [
    "Complaint_Type[(Complaint_Type.Frequency*100)/Complaint_Type.Frequency.sum() >= .5]"
   ]
  }
 ],
 "metadata": {
  "kernelspec": {
   "display_name": "Python 3",
   "language": "python",
   "name": "python3"
  },
  "language_info": {
   "codemirror_mode": {
    "name": "ipython",
    "version": 3
   },
   "file_extension": ".py",
   "mimetype": "text/x-python",
   "name": "python",
   "nbconvert_exporter": "python",
   "pygments_lexer": "ipython3",
   "version": "3.8.8"
  }
 },
 "nbformat": 4,
 "nbformat_minor": 5
}
